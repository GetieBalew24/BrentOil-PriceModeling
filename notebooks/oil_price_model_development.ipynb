{
 "cells": [
  {
   "cell_type": "markdown",
   "metadata": {},
   "source": [
    "# Task 2"
   ]
  },
  {
   "cell_type": "markdown",
   "metadata": {},
   "source": [
    "## 1. Outline the Analysis Steps:\n",
    "- We’ll import libraries, load the data, and visualize it."
   ]
  },
  {
   "cell_type": "code",
   "execution_count": 1,
   "metadata": {},
   "outputs": [],
   "source": [
    "import pandas as pd\n",
    "import numpy as np\n",
    "import matplotlib.pyplot as plt\n",
    "import seaborn as sns\n",
    "import os, sys\n",
    "import warnings\n",
    "# import tensorflow as tf\n",
    "# from keras.layers import LSTM\n",
    "current_dir = os.getcwd()\n",
    "# Append the parent directory to sys.path\n",
    "parent_dir = os.path.dirname(current_dir)\n",
    "sys.path.append(parent_dir)\n",
    "# ignore warrnings\n",
    "warnings.filterwarnings('ignore')"
   ]
  },
  {
   "cell_type": "code",
   "execution_count": 2,
   "metadata": {},
   "outputs": [],
   "source": [
    "from scripts.oil_price_data_extraction import WorldDataAnalysis"
   ]
  },
  {
   "cell_type": "code",
   "execution_count": 3,
   "metadata": {},
   "outputs": [],
   "source": [
    "data_extracter =WorldDataAnalysis()"
   ]
  },
  {
   "cell_type": "code",
   "execution_count": 4,
   "metadata": {},
   "outputs": [
    {
     "name": "stdout",
     "output_type": "stream",
     "text": [
      "Fetching world data...\n",
      "Fetch complete. Data type: <class 'wbdata.client.DataFrame'>\n",
      "World data fetched and filtered by date successfully.\n",
      "        date  GDP Growth (%)  Inflation Rate (%)  Unemployment Rate (%)  \\\n",
      "0 2023-01-01        2.833509            5.635669               4.916572   \n",
      "1 2022-01-01        3.238021            7.930929               5.260711   \n",
      "2 2021-01-01        6.350090            3.475403               6.064446   \n",
      "3 2020-01-01       -2.878323            1.905664               6.608805   \n",
      "4 2019-01-01        2.675966            2.216776               5.598931   \n",
      "\n",
      "  Exchange Rate (USD)  \n",
      "0                None  \n",
      "1                None  \n",
      "2                None  \n",
      "3                None  \n",
      "4                None  \n",
      "Data saved to 'world_data.csv'.\n"
     ]
    }
   ],
   "source": [
    "data_extracter.fetch_world_data()"
   ]
  },
  {
   "cell_type": "code",
   "execution_count": 5,
   "metadata": {},
   "outputs": [
    {
     "name": "stdout",
     "output_type": "stream",
     "text": [
      "World data resampled to daily frequency.\n",
      "            GDP Growth (%)  Inflation Rate (%)  Unemployment Rate (%)  \\\n",
      "date                                                                    \n",
      "1987-01-01        3.753409            5.710119                    NaN   \n",
      "1987-01-02        3.753409            5.710119                    NaN   \n",
      "1987-01-03        3.753409            5.710119                    NaN   \n",
      "1987-01-04        3.753409            5.710119                    NaN   \n",
      "1987-01-05        3.753409            5.710119                    NaN   \n",
      "\n",
      "           Exchange Rate (USD)  \n",
      "date                            \n",
      "1987-01-01                None  \n",
      "1987-01-02                None  \n",
      "1987-01-03                None  \n",
      "1987-01-04                None  \n",
      "1987-01-05                None  \n"
     ]
    }
   ],
   "source": [
    "data_extracter.resample_to_daily()"
   ]
  },
  {
   "cell_type": "code",
   "execution_count": 6,
   "metadata": {},
   "outputs": [
    {
     "name": "stdout",
     "output_type": "stream",
     "text": [
      "Oil prices loaded successfully.\n",
      "            Price\n",
      "Date             \n",
      "1987-05-20  18.63\n",
      "1987-05-21  18.45\n",
      "1987-05-22  18.55\n",
      "1987-05-25  18.60\n",
      "1987-05-26  18.63\n"
     ]
    }
   ],
   "source": [
    "file_path ='../data/BrentOilPrices.csv'\n",
    "data_extracter.load_oil_prices_from_csv(file_path=file_path)"
   ]
  },
  {
   "cell_type": "code",
   "execution_count": 7,
   "metadata": {},
   "outputs": [
    {
     "name": "stdout",
     "output_type": "stream",
     "text": [
      "Data merged successfully, maintaining only dates from oil prices data.\n",
      "            GDP Growth (%)  Inflation Rate (%)  Unemployment Rate (%)  \\\n",
      "Date                                                                    \n",
      "1987-05-20        3.753409            5.710119                    NaN   \n",
      "1987-05-21        3.753409            5.710119                    NaN   \n",
      "1987-05-22        3.753409            5.710119                    NaN   \n",
      "1987-05-25        3.753409            5.710119                    NaN   \n",
      "1987-05-26        3.753409            5.710119                    NaN   \n",
      "\n",
      "           Exchange Rate (USD)  Price  \n",
      "Date                                   \n",
      "1987-05-20                None  18.63  \n",
      "1987-05-21                None  18.45  \n",
      "1987-05-22                None  18.55  \n",
      "1987-05-25                None  18.60  \n",
      "1987-05-26                None  18.63  \n",
      "Merged data saved to 'merged_data.csv'.\n"
     ]
    }
   ],
   "source": [
    "data_extracter.merge_data()"
   ]
  },
  {
   "cell_type": "code",
   "execution_count": 8,
   "metadata": {},
   "outputs": [
    {
     "data": {
      "text/html": [
       "<div>\n",
       "<style scoped>\n",
       "    .dataframe tbody tr th:only-of-type {\n",
       "        vertical-align: middle;\n",
       "    }\n",
       "\n",
       "    .dataframe tbody tr th {\n",
       "        vertical-align: top;\n",
       "    }\n",
       "\n",
       "    .dataframe thead th {\n",
       "        text-align: right;\n",
       "    }\n",
       "</style>\n",
       "<table border=\"1\" class=\"dataframe\">\n",
       "  <thead>\n",
       "    <tr style=\"text-align: right;\">\n",
       "      <th></th>\n",
       "      <th>Date</th>\n",
       "      <th>GDP Growth (%)</th>\n",
       "      <th>Inflation Rate (%)</th>\n",
       "      <th>Unemployment Rate (%)</th>\n",
       "      <th>Exchange Rate (USD)</th>\n",
       "      <th>Price</th>\n",
       "    </tr>\n",
       "  </thead>\n",
       "  <tbody>\n",
       "    <tr>\n",
       "      <th>0</th>\n",
       "      <td>1987-05-20</td>\n",
       "      <td>3.753409</td>\n",
       "      <td>5.710119</td>\n",
       "      <td>NaN</td>\n",
       "      <td>NaN</td>\n",
       "      <td>18.63</td>\n",
       "    </tr>\n",
       "    <tr>\n",
       "      <th>1</th>\n",
       "      <td>1987-05-21</td>\n",
       "      <td>3.753409</td>\n",
       "      <td>5.710119</td>\n",
       "      <td>NaN</td>\n",
       "      <td>NaN</td>\n",
       "      <td>18.45</td>\n",
       "    </tr>\n",
       "    <tr>\n",
       "      <th>2</th>\n",
       "      <td>1987-05-22</td>\n",
       "      <td>3.753409</td>\n",
       "      <td>5.710119</td>\n",
       "      <td>NaN</td>\n",
       "      <td>NaN</td>\n",
       "      <td>18.55</td>\n",
       "    </tr>\n",
       "    <tr>\n",
       "      <th>3</th>\n",
       "      <td>1987-05-25</td>\n",
       "      <td>3.753409</td>\n",
       "      <td>5.710119</td>\n",
       "      <td>NaN</td>\n",
       "      <td>NaN</td>\n",
       "      <td>18.60</td>\n",
       "    </tr>\n",
       "    <tr>\n",
       "      <th>4</th>\n",
       "      <td>1987-05-26</td>\n",
       "      <td>3.753409</td>\n",
       "      <td>5.710119</td>\n",
       "      <td>NaN</td>\n",
       "      <td>NaN</td>\n",
       "      <td>18.63</td>\n",
       "    </tr>\n",
       "  </tbody>\n",
       "</table>\n",
       "</div>"
      ],
      "text/plain": [
       "         Date  GDP Growth (%)  Inflation Rate (%)  Unemployment Rate (%)  \\\n",
       "0  1987-05-20        3.753409            5.710119                    NaN   \n",
       "1  1987-05-21        3.753409            5.710119                    NaN   \n",
       "2  1987-05-22        3.753409            5.710119                    NaN   \n",
       "3  1987-05-25        3.753409            5.710119                    NaN   \n",
       "4  1987-05-26        3.753409            5.710119                    NaN   \n",
       "\n",
       "   Exchange Rate (USD)  Price  \n",
       "0                  NaN  18.63  \n",
       "1                  NaN  18.45  \n",
       "2                  NaN  18.55  \n",
       "3                  NaN  18.60  \n",
       "4                  NaN  18.63  "
      ]
     },
     "execution_count": 8,
     "metadata": {},
     "output_type": "execute_result"
    }
   ],
   "source": [
    "merged_data =pd.read_csv('../data/merged_data.csv')\n",
    "merged_data.head()"
   ]
  },
  {
   "cell_type": "code",
   "execution_count": 9,
   "metadata": {},
   "outputs": [
    {
     "data": {
      "text/plain": [
       "Date                        0\n",
       "GDP Growth (%)              0\n",
       "Inflation Rate (%)          0\n",
       "Unemployment Rate (%)     925\n",
       "Exchange Rate (USD)      9011\n",
       "Price                       0\n",
       "dtype: int64"
      ]
     },
     "execution_count": 9,
     "metadata": {},
     "output_type": "execute_result"
    }
   ],
   "source": [
    "merged_data.isnull().sum()"
   ]
  },
  {
   "cell_type": "code",
   "execution_count": 10,
   "metadata": {},
   "outputs": [
    {
     "name": "stdout",
     "output_type": "stream",
     "text": [
      "<class 'pandas.core.frame.DataFrame'>\n",
      "RangeIndex: 9011 entries, 0 to 9010\n",
      "Data columns (total 6 columns):\n",
      " #   Column                 Non-Null Count  Dtype  \n",
      "---  ------                 --------------  -----  \n",
      " 0   Date                   9011 non-null   object \n",
      " 1   GDP Growth (%)         9011 non-null   float64\n",
      " 2   Inflation Rate (%)     9011 non-null   float64\n",
      " 3   Unemployment Rate (%)  8086 non-null   float64\n",
      " 4   Exchange Rate (USD)    0 non-null      float64\n",
      " 5   Price                  9011 non-null   float64\n",
      "dtypes: float64(5), object(1)\n",
      "memory usage: 422.5+ KB\n",
      "None\n",
      "       GDP Growth (%)  Inflation Rate (%)  Unemployment Rate (%)  \\\n",
      "count     9011.000000         9011.000000            8086.000000   \n",
      "mean         3.013317            4.782402               5.999068   \n",
      "std          1.595337            2.448874               0.343139   \n",
      "min         -2.878323            1.443857               5.133780   \n",
      "25%          2.675966            2.860449               5.832310   \n",
      "50%          3.131476            3.836573               6.022391   \n",
      "75%          3.953367            7.113407               6.227128   \n",
      "max          6.350090           10.247936               6.608805   \n",
      "\n",
      "       Exchange Rate (USD)        Price  \n",
      "count                  0.0  9011.000000  \n",
      "mean                   NaN    48.420782  \n",
      "std                    NaN    32.860110  \n",
      "min                    NaN     9.100000  \n",
      "25%                    NaN    19.050000  \n",
      "50%                    NaN    38.570000  \n",
      "75%                    NaN    70.090000  \n",
      "max                    NaN   143.950000  \n"
     ]
    }
   ],
   "source": [
    "# Check for missing values and data types\n",
    "print(merged_data.info())\n",
    "print(merged_data.describe())"
   ]
  },
  {
   "cell_type": "code",
   "execution_count": 11,
   "metadata": {},
   "outputs": [
    {
     "data": {
      "text/html": [
       "<div>\n",
       "<style scoped>\n",
       "    .dataframe tbody tr th:only-of-type {\n",
       "        vertical-align: middle;\n",
       "    }\n",
       "\n",
       "    .dataframe tbody tr th {\n",
       "        vertical-align: top;\n",
       "    }\n",
       "\n",
       "    .dataframe thead th {\n",
       "        text-align: right;\n",
       "    }\n",
       "</style>\n",
       "<table border=\"1\" class=\"dataframe\">\n",
       "  <thead>\n",
       "    <tr style=\"text-align: right;\">\n",
       "      <th></th>\n",
       "      <th>Date</th>\n",
       "      <th>GDP Growth (%)</th>\n",
       "      <th>Inflation Rate (%)</th>\n",
       "      <th>Unemployment Rate (%)</th>\n",
       "      <th>Price</th>\n",
       "    </tr>\n",
       "  </thead>\n",
       "  <tbody>\n",
       "    <tr>\n",
       "      <th>925</th>\n",
       "      <td>1991-01-02</td>\n",
       "      <td>1.210701</td>\n",
       "      <td>8.996939</td>\n",
       "      <td>5.133780</td>\n",
       "      <td>26.78</td>\n",
       "    </tr>\n",
       "    <tr>\n",
       "      <th>926</th>\n",
       "      <td>1991-01-03</td>\n",
       "      <td>1.210701</td>\n",
       "      <td>8.996939</td>\n",
       "      <td>5.133780</td>\n",
       "      <td>25.05</td>\n",
       "    </tr>\n",
       "    <tr>\n",
       "      <th>927</th>\n",
       "      <td>1991-01-04</td>\n",
       "      <td>1.210701</td>\n",
       "      <td>8.996939</td>\n",
       "      <td>5.133780</td>\n",
       "      <td>24.08</td>\n",
       "    </tr>\n",
       "    <tr>\n",
       "      <th>928</th>\n",
       "      <td>1991-01-07</td>\n",
       "      <td>1.210701</td>\n",
       "      <td>8.996939</td>\n",
       "      <td>5.133780</td>\n",
       "      <td>25.93</td>\n",
       "    </tr>\n",
       "    <tr>\n",
       "      <th>929</th>\n",
       "      <td>1991-01-08</td>\n",
       "      <td>1.210701</td>\n",
       "      <td>8.996939</td>\n",
       "      <td>5.133780</td>\n",
       "      <td>25.73</td>\n",
       "    </tr>\n",
       "    <tr>\n",
       "      <th>...</th>\n",
       "      <td>...</td>\n",
       "      <td>...</td>\n",
       "      <td>...</td>\n",
       "      <td>...</td>\n",
       "      <td>...</td>\n",
       "    </tr>\n",
       "    <tr>\n",
       "      <th>9006</th>\n",
       "      <td>2022-11-08</td>\n",
       "      <td>3.238021</td>\n",
       "      <td>7.930929</td>\n",
       "      <td>5.260711</td>\n",
       "      <td>96.85</td>\n",
       "    </tr>\n",
       "    <tr>\n",
       "      <th>9007</th>\n",
       "      <td>2022-11-09</td>\n",
       "      <td>3.238021</td>\n",
       "      <td>7.930929</td>\n",
       "      <td>5.260711</td>\n",
       "      <td>93.05</td>\n",
       "    </tr>\n",
       "    <tr>\n",
       "      <th>9008</th>\n",
       "      <td>2022-11-10</td>\n",
       "      <td>3.238021</td>\n",
       "      <td>7.930929</td>\n",
       "      <td>5.260711</td>\n",
       "      <td>94.25</td>\n",
       "    </tr>\n",
       "    <tr>\n",
       "      <th>9009</th>\n",
       "      <td>2022-11-11</td>\n",
       "      <td>3.238021</td>\n",
       "      <td>7.930929</td>\n",
       "      <td>5.260711</td>\n",
       "      <td>96.37</td>\n",
       "    </tr>\n",
       "    <tr>\n",
       "      <th>9010</th>\n",
       "      <td>2022-11-14</td>\n",
       "      <td>3.238021</td>\n",
       "      <td>7.930929</td>\n",
       "      <td>5.260711</td>\n",
       "      <td>93.59</td>\n",
       "    </tr>\n",
       "  </tbody>\n",
       "</table>\n",
       "<p>8086 rows × 5 columns</p>\n",
       "</div>"
      ],
      "text/plain": [
       "            Date  GDP Growth (%)  Inflation Rate (%)  Unemployment Rate (%)  \\\n",
       "925   1991-01-02        1.210701            8.996939               5.133780   \n",
       "926   1991-01-03        1.210701            8.996939               5.133780   \n",
       "927   1991-01-04        1.210701            8.996939               5.133780   \n",
       "928   1991-01-07        1.210701            8.996939               5.133780   \n",
       "929   1991-01-08        1.210701            8.996939               5.133780   \n",
       "...          ...             ...                 ...                    ...   \n",
       "9006  2022-11-08        3.238021            7.930929               5.260711   \n",
       "9007  2022-11-09        3.238021            7.930929               5.260711   \n",
       "9008  2022-11-10        3.238021            7.930929               5.260711   \n",
       "9009  2022-11-11        3.238021            7.930929               5.260711   \n",
       "9010  2022-11-14        3.238021            7.930929               5.260711   \n",
       "\n",
       "      Price  \n",
       "925   26.78  \n",
       "926   25.05  \n",
       "927   24.08  \n",
       "928   25.93  \n",
       "929   25.73  \n",
       "...     ...  \n",
       "9006  96.85  \n",
       "9007  93.05  \n",
       "9008  94.25  \n",
       "9009  96.37  \n",
       "9010  93.59  \n",
       "\n",
       "[8086 rows x 5 columns]"
      ]
     },
     "execution_count": 11,
     "metadata": {},
     "output_type": "execute_result"
    }
   ],
   "source": [
    "data =merged_data.drop(columns=['Exchange Rate (USD)'])\n",
    "data.dropna(inplace=True)\n",
    "data"
   ]
  }
 ],
 "metadata": {
  "kernelspec": {
   "display_name": "venv",
   "language": "python",
   "name": "python3"
  },
  "language_info": {
   "codemirror_mode": {
    "name": "ipython",
    "version": 3
   },
   "file_extension": ".py",
   "mimetype": "text/x-python",
   "name": "python",
   "nbconvert_exporter": "python",
   "pygments_lexer": "ipython3",
   "version": "3.12.3"
  }
 },
 "nbformat": 4,
 "nbformat_minor": 2
}
