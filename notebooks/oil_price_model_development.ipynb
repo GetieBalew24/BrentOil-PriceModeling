{
 "cells": [
  {
   "cell_type": "markdown",
   "metadata": {},
   "source": [
    "# Task 2"
   ]
  },
  {
   "cell_type": "markdown",
   "metadata": {},
   "source": [
    "## 1. Outline the Analysis Steps:\n",
    "- We’ll import libraries, load the data, and visualize it."
   ]
  },
  {
   "cell_type": "code",
   "execution_count": 1,
   "metadata": {},
   "outputs": [],
   "source": [
    "import pandas as pd\n",
    "import numpy as np\n",
    "import matplotlib.pyplot as plt\n",
    "import seaborn as sns\n",
    "import os, sys\n",
    "import warnings\n",
    "# import tensorflow as tf\n",
    "# from keras.layers import LSTM\n",
    "current_dir = os.getcwd()\n",
    "# Append the parent directory to sys.path\n",
    "parent_dir = os.path.dirname(current_dir)\n",
    "sys.path.append(parent_dir)\n",
    "# ignore warrnings\n",
    "warnings.filterwarnings('ignore')"
   ]
  },
  {
   "cell_type": "code",
   "execution_count": 2,
   "metadata": {},
   "outputs": [],
   "source": [
    "from scripts.oil_price_data_extraction import WorldDataAnalysis"
   ]
  },
  {
   "cell_type": "code",
   "execution_count": 3,
   "metadata": {},
   "outputs": [],
   "source": [
    "data_extracter =WorldDataAnalysis()"
   ]
  },
  {
   "cell_type": "code",
   "execution_count": 4,
   "metadata": {},
   "outputs": [
    {
     "name": "stdout",
     "output_type": "stream",
     "text": [
      "Fetching world data...\n",
      "Fetch complete. Data type: <class 'wbdata.client.DataFrame'>\n",
      "World data fetched and filtered by date successfully.\n",
      "        date  GDP Growth (%)  Inflation Rate (%)  Unemployment Rate (%)  \\\n",
      "0 2023-01-01        2.833509            5.635669               4.916572   \n",
      "1 2022-01-01        3.238021            7.930929               5.260711   \n",
      "2 2021-01-01        6.350090            3.475403               6.064446   \n",
      "3 2020-01-01       -2.878323            1.905664               6.608805   \n",
      "4 2019-01-01        2.675966            2.216776               5.598931   \n",
      "\n",
      "  Exchange Rate (USD)  \n",
      "0                None  \n",
      "1                None  \n",
      "2                None  \n",
      "3                None  \n",
      "4                None  \n",
      "Data saved to 'world_data.csv'.\n"
     ]
    }
   ],
   "source": [
    "data_extracter.fetch_world_data()"
   ]
  },
  {
   "cell_type": "code",
   "execution_count": 5,
   "metadata": {},
   "outputs": [
    {
     "name": "stdout",
     "output_type": "stream",
     "text": [
      "World data resampled to daily frequency.\n",
      "            GDP Growth (%)  Inflation Rate (%)  Unemployment Rate (%)  \\\n",
      "date                                                                    \n",
      "1987-01-01        3.753409            5.710119                    NaN   \n",
      "1987-01-02        3.753409            5.710119                    NaN   \n",
      "1987-01-03        3.753409            5.710119                    NaN   \n",
      "1987-01-04        3.753409            5.710119                    NaN   \n",
      "1987-01-05        3.753409            5.710119                    NaN   \n",
      "\n",
      "           Exchange Rate (USD)  \n",
      "date                            \n",
      "1987-01-01                None  \n",
      "1987-01-02                None  \n",
      "1987-01-03                None  \n",
      "1987-01-04                None  \n",
      "1987-01-05                None  \n"
     ]
    }
   ],
   "source": [
    "data_extracter.resample_to_daily()"
   ]
  },
  {
   "cell_type": "code",
   "execution_count": 6,
   "metadata": {},
   "outputs": [
    {
     "name": "stdout",
     "output_type": "stream",
     "text": [
      "Oil prices loaded successfully.\n",
      "            Price\n",
      "Date             \n",
      "1987-05-20  18.63\n",
      "1987-05-21  18.45\n",
      "1987-05-22  18.55\n",
      "1987-05-25  18.60\n",
      "1987-05-26  18.63\n"
     ]
    }
   ],
   "source": [
    "file_path ='../data/BrentOilPrices.csv'\n",
    "data_extracter.load_oil_prices_from_csv(file_path=file_path)"
   ]
  },
  {
   "cell_type": "code",
   "execution_count": 7,
   "metadata": {},
   "outputs": [
    {
     "name": "stdout",
     "output_type": "stream",
     "text": [
      "Data merged successfully, maintaining only dates from oil prices data.\n",
      "            GDP Growth (%)  Inflation Rate (%)  Unemployment Rate (%)  \\\n",
      "Date                                                                    \n",
      "1987-05-20        3.753409            5.710119                    NaN   \n",
      "1987-05-21        3.753409            5.710119                    NaN   \n",
      "1987-05-22        3.753409            5.710119                    NaN   \n",
      "1987-05-25        3.753409            5.710119                    NaN   \n",
      "1987-05-26        3.753409            5.710119                    NaN   \n",
      "\n",
      "           Exchange Rate (USD)  Price  \n",
      "Date                                   \n",
      "1987-05-20                None  18.63  \n",
      "1987-05-21                None  18.45  \n",
      "1987-05-22                None  18.55  \n",
      "1987-05-25                None  18.60  \n",
      "1987-05-26                None  18.63  \n",
      "Merged data saved to 'merged_data.csv'.\n"
     ]
    }
   ],
   "source": [
    "data_extracter.merge_data()"
   ]
  }
 ],
 "metadata": {
  "kernelspec": {
   "display_name": "venv",
   "language": "python",
   "name": "python3"
  },
  "language_info": {
   "codemirror_mode": {
    "name": "ipython",
    "version": 3
   },
   "file_extension": ".py",
   "mimetype": "text/x-python",
   "name": "python",
   "nbconvert_exporter": "python",
   "pygments_lexer": "ipython3",
   "version": "3.12.3"
  }
 },
 "nbformat": 4,
 "nbformat_minor": 2
}
